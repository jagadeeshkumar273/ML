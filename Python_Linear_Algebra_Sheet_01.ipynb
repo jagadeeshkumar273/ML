{
  "nbformat": 4,
  "nbformat_minor": 0,
  "metadata": {
    "colab": {
      "provenance": [],
      "authorship_tag": "ABX9TyNHtiaUfD2CpNzgRgpiPcBR",
      "include_colab_link": true
    },
    "kernelspec": {
      "name": "python3",
      "display_name": "Python 3"
    },
    "language_info": {
      "name": "python"
    }
  },
  "cells": [
    {
      "cell_type": "markdown",
      "metadata": {
        "id": "view-in-github",
        "colab_type": "text"
      },
      "source": [
        "<a href=\"https://colab.research.google.com/github/ANKITHDEEGOJU/AI-ML-IITH-Course-Work/blob/MASTER/Python_Linear_Algebra_Sheet_01.ipynb\" target=\"_parent\"><img src=\"https://colab.research.google.com/assets/colab-badge.svg\" alt=\"Open In Colab\"/></a>"
      ]
    },
    {
      "cell_type": "code",
      "execution_count": null,
      "metadata": {
        "colab": {
          "base_uri": "https://localhost:8080/"
        },
        "id": "hBMhiWbvdCvf",
        "outputId": "16ddb27e-da32-413c-e1fa-9498b2917240"
      },
      "outputs": [
        {
          "output_type": "stream",
          "name": "stdout",
          "text": [
            "Hello World\n"
          ]
        }
      ],
      "source": [
        "print('Hello World')"
      ]
    },
    {
      "cell_type": "markdown",
      "source": [
        "A basic print function."
      ],
      "metadata": {
        "id": "QrwLmywsdL-t"
      }
    },
    {
      "cell_type": "code",
      "source": [
        "#Some important things\n",
        "# != ->LOgical XOR Operation\n",
        "z=22\n",
        "print(z**22)#-->Power of function\n",
        "q=z.__sizeof__()#Gives us size of variable.\n",
        "print(q)"
      ],
      "metadata": {
        "colab": {
          "base_uri": "https://localhost:8080/"
        },
        "id": "-5DsBylBVazb",
        "outputId": "51f54903-6dc7-4f5f-d337-ca378a18d065"
      },
      "execution_count": null,
      "outputs": [
        {
          "output_type": "stream",
          "name": "stdout",
          "text": [
            "341427877364219557396646723584\n",
            "28\n"
          ]
        }
      ]
    },
    {
      "cell_type": "markdown",
      "source": [
        "A quick overview of some imp points and some of the containers-list,dict,set,tuple.."
      ],
      "metadata": {
        "id": "dODdys2ASW39"
      }
    },
    {
      "cell_type": "code",
      "source": [
        "a=[10,True,'a',\"a\",123,1.23]  #defining a list\n",
        "b=(12,112,\"Yo\") #defining a tuple\n",
        "c={\"Hello\",123} #defining a set\n",
        "d={\"Hello\":123,2:\"Hi\",3:\"Jump\"} #defining a dictionary\n",
        "\n",
        "combo=[a,b,c,d]\n",
        "\n",
        "#To display type of each variable\n",
        "for x in combo:\n",
        "  print(type(x))\n"
      ],
      "metadata": {
        "id": "zQsBOufwSWNP",
        "colab": {
          "base_uri": "https://localhost:8080/"
        },
        "outputId": "f11fa476-8d6c-4f43-c591-2205f48f323b"
      },
      "execution_count": null,
      "outputs": [
        {
          "output_type": "stream",
          "name": "stdout",
          "text": [
            "<class 'list'>\n",
            "<class 'tuple'>\n",
            "<class 'set'>\n",
            "<class 'dict'>\n"
          ]
        }
      ]
    },
    {
      "cell_type": "code",
      "source": [
        "#Iterating through each individual container\n",
        "\n",
        "#List\n",
        "for x in a:\n",
        "  print(type(x))\n",
        "  print(a.index(x))\n",
        "\n",
        "#Tuple\n",
        "for x in b:\n",
        "  print(x)\n",
        "\n",
        "#Set\n",
        "for x in c:\n",
        "  print(x)\n",
        "\n",
        "#Dictionary\n",
        "for x,y in d.items():\n",
        "  y=d.get(x)\n",
        "  print('This {} has value {} associated with it.'.format(x,y))\n",
        "\n",
        "#checking\n",
        "print(\"Hello\" in c)"
      ],
      "metadata": {
        "id": "MCcSpXzZVEJu",
        "colab": {
          "base_uri": "https://localhost:8080/"
        },
        "outputId": "1a114c44-1905-41eb-bccf-50534054214d"
      },
      "execution_count": null,
      "outputs": [
        {
          "output_type": "stream",
          "name": "stdout",
          "text": [
            "<class 'int'>\n",
            "0\n",
            "<class 'bool'>\n",
            "1\n",
            "<class 'str'>\n",
            "2\n",
            "<class 'str'>\n",
            "2\n",
            "<class 'int'>\n",
            "4\n",
            "<class 'float'>\n",
            "5\n",
            "12\n",
            "112\n",
            "Yo\n",
            "123\n",
            "Hello\n",
            "This Hello has value 123 associated with it.\n",
            "This 2 has value Hi associated with it.\n",
            "This 3 has value Jump associated with it.\n",
            "True\n"
          ]
        }
      ]
    },
    {
      "cell_type": "code",
      "source": [
        "#Modifying  containers\n",
        "\n",
        "# #Set\n",
        "# c.add('wellness')\n",
        "# c.remove('Hello')\n",
        "# for s in c:\n",
        "#   print(s)\n",
        "\n",
        "# #List and Tuple similar\n",
        "# a.append(8)\n",
        "# a.remove(10)\n",
        "# for s in a:\n",
        "#   print(s)\n",
        "\n",
        "#Dictionary\n",
        "d[\"Hi\"]=123\n",
        "d.update({12:\"ABCD\"})\n",
        "del d[12]\n",
        "d.pop('Hi')\n",
        "print(d.keys())\n"
      ],
      "metadata": {
        "colab": {
          "base_uri": "https://localhost:8080/"
        },
        "id": "M-pAfzE0j8BQ",
        "outputId": "c53a9bcf-2adc-4d2d-fb11-440fe2161df0"
      },
      "execution_count": null,
      "outputs": [
        {
          "output_type": "stream",
          "name": "stdout",
          "text": [
            "dict_keys(['Hello', 2, 3])\n"
          ]
        }
      ]
    },
    {
      "cell_type": "code",
      "source": [
        "# Funtions in python\n",
        "def square(x,cube=\"True\"):\n",
        "  if(cube==True):\n",
        "    print(x ** 3)\n",
        "  print(x ** 2)\n",
        "square(10)\n",
        "square(12,cube=True)"
      ],
      "metadata": {
        "colab": {
          "base_uri": "https://localhost:8080/"
        },
        "id": "Zt1Jxm9SqBIl",
        "outputId": "a5344549-a3e9-4bf4-b524-a41db957e487"
      },
      "execution_count": null,
      "outputs": [
        {
          "output_type": "stream",
          "name": "stdout",
          "text": [
            "100\n",
            "1728\n",
            "144\n"
          ]
        }
      ]
    },
    {
      "cell_type": "markdown",
      "source": [
        "Starting out with numpy arrays"
      ],
      "metadata": {
        "id": "Hg6LLQk04DRA"
      }
    },
    {
      "cell_type": "code",
      "source": [
        "import numpy as np\n",
        "#Creating a single dimension arrray-->Rank=1\n",
        "h=np.array([1,2,3,4,5,\"Hello\",\"Hi\"])\n",
        "print(h,h.ndim,h.shape)\n",
        "\n",
        "\n",
        "# Creating a two dimension arrray-->Rank=2\n",
        "u=np.array([[12,32,43],[21,34,56]])\n",
        "print(u,u.ndim,u.shape)\n"
      ],
      "metadata": {
        "colab": {
          "base_uri": "https://localhost:8080/"
        },
        "id": "Yuyxoanht2_Q",
        "outputId": "39ecf445-2243-4e12-a83a-a3116f8e83fc"
      },
      "execution_count": null,
      "outputs": [
        {
          "output_type": "stream",
          "name": "stdout",
          "text": [
            "['1' '2' '3' '4' '5' 'Hello' 'Hi'] 1 (7,)\n",
            "[[12 32 43]\n",
            " [21 34 56]] 2 (2, 3)\n"
          ]
        }
      ]
    },
    {
      "cell_type": "code",
      "source": [
        "from numpy.core.fromnumeric import ndim\n",
        "#Creating arrays\n",
        "\n",
        "a=np.zeros((2,3))\n",
        "print(a)\n",
        "\n",
        "b=np.ones((1,3))\n",
        "print(b)\n",
        "\n",
        "c=np.full((3,1),8)\n",
        "print(c)\n",
        "\n",
        "d=np.eye(4,4)\n",
        "print(d)\n",
        "\n",
        "e=np.random.random((2,3))\n",
        "print(e)\n",
        "\n",
        "l=np.array([a,b,c,d,e],dtype=object)\n",
        "for x in l:\n",
        "  print(x.ndim,x.dtype)\n",
        "\n"
      ],
      "metadata": {
        "id": "xrtKSUXTwxN_"
      },
      "execution_count": null,
      "outputs": []
    },
    {
      "cell_type": "code",
      "source": [
        "# Indexing and Slicing\n",
        "v=np.array([[2,32,4],[1,4,6]])\n",
        "\n",
        "print(v[1,0],v[0,1],v[1,2])\n",
        "\n",
        "\n",
        "# Slicing\n",
        "print(v[0:2]) #-->accessing rows\n",
        "\n",
        "print(v[1,0:3]) #Accessing columns\n"
      ],
      "metadata": {
        "colab": {
          "base_uri": "https://localhost:8080/"
        },
        "id": "JfYceUyiwUQH",
        "outputId": "00632530-a62f-4082-f0cc-b31d4db1f298"
      },
      "execution_count": null,
      "outputs": [
        {
          "output_type": "stream",
          "name": "stdout",
          "text": [
            "1 32 6\n",
            "[[ 2 32  4]\n",
            " [ 1  4  6]]\n",
            "[1 4 6]\n"
          ]
        }
      ]
    },
    {
      "cell_type": "code",
      "source": [
        "# INdexing Methods\n",
        "\n",
        "o=np.array([[1,2,3],[4,3,6],[9,7,6]])\n",
        "\n",
        "#normal Indexing\n",
        "b=o[:,:] #-->Accessing all rows and columns\n",
        "c=o[1:,:1] #-->Accessing specific rows and columns\n",
        "print(c)\n",
        "print(b)\n",
        "\n",
        "#Boolean Array Indexing\n",
        "mask=b>2\n",
        "select=b[mask]\n",
        "print(select) #--> Returns values corressponding to true\n",
        "print(mask) #-->Returns boolean values\n",
        "\n",
        "#Integer Array Indexing\n",
        "indices=np.array([0,1]) #--> Accessing the dimension\n",
        "select_1=b[indices]\n",
        "new_b=b.flatten()\n",
        "select_2=new_b[indices]#--> Accesses according to indices if its of single dimension\n",
        "print(select_1)\n",
        "print(select_2)"
      ],
      "metadata": {
        "colab": {
          "base_uri": "https://localhost:8080/"
        },
        "id": "5qdLIBmu8-7m",
        "outputId": "ce96dc6c-a776-45ea-9ac8-b76e5cecafbe"
      },
      "execution_count": null,
      "outputs": [
        {
          "output_type": "stream",
          "name": "stdout",
          "text": [
            "[[4]\n",
            " [9]]\n",
            "[[1 2 3]\n",
            " [4 3 6]\n",
            " [9 7 6]]\n",
            "[[False False  True]\n",
            " [ True  True  True]\n",
            " [ True  True  True]]\n",
            "[[1 2 3]\n",
            " [4 3 6]]\n",
            "[1 2]\n"
          ]
        }
      ]
    },
    {
      "cell_type": "code",
      "source": [
        "height=[180,175,155]\n",
        "import numpy as a\n",
        "np_height=a.array(height)\n",
        "print(type(np_height))"
      ],
      "metadata": {
        "colab": {
          "base_uri": "https://localhost:8080/"
        },
        "id": "x4oyVSZA4O5R",
        "outputId": "213063ab-6365-4058-943f-c8c208eb9a77"
      },
      "execution_count": null,
      "outputs": [
        {
          "output_type": "stream",
          "name": "stdout",
          "text": [
            "<class 'numpy.ndarray'>\n"
          ]
        }
      ]
    },
    {
      "cell_type": "markdown",
      "source": [
        "Element wise Calculations"
      ],
      "metadata": {
        "id": "wPUjIZGC4qcD"
      }
    },
    {
      "cell_type": "code",
      "source": [
        "m_np_height=np_height*2\n",
        "print(m_np_height)"
      ],
      "metadata": {
        "colab": {
          "base_uri": "https://localhost:8080/"
        },
        "id": "rRC6sQV84uA0",
        "outputId": "7a5f56cf-8eaf-400f-e73d-b97ed02b04b7"
      },
      "execution_count": null,
      "outputs": [
        {
          "output_type": "stream",
          "name": "stdout",
          "text": [
            "[360 350 310]\n"
          ]
        }
      ]
    },
    {
      "cell_type": "markdown",
      "source": [
        "Subsetting"
      ],
      "metadata": {
        "id": "lcQMwEyp53jB"
      }
    },
    {
      "cell_type": "code",
      "source": [
        "a=[100,125,135,132,150,180]\n",
        "import numpy as np\n",
        "m_a=np.array(a)\n",
        "print(\"The array is \",m_a)\n",
        "print(\"The new array after subsetting is \",m_a[m_a>135])\n"
      ],
      "metadata": {
        "colab": {
          "base_uri": "https://localhost:8080/"
        },
        "id": "HKNAPnod6D76",
        "outputId": "07fe8571-045c-4385-d290-0cbe3bd06ca4"
      },
      "execution_count": null,
      "outputs": [
        {
          "output_type": "stream",
          "name": "stdout",
          "text": [
            "The array is  [100 125 135 132 150 180]\n",
            "The new array after subsetting is  [150 180]\n"
          ]
        }
      ]
    },
    {
      "cell_type": "markdown",
      "source": [
        "Basic Operations on array -"
      ],
      "metadata": {
        "id": "4kmeAjBVAHp8"
      }
    },
    {
      "cell_type": "code",
      "source": [
        "x=np.array([[1,2,3],[4,5,6]],dtype=np.int32)\n",
        "y=np.array([[7,8,9],[10,11,12]],dtype=np.int32)\n",
        "\n",
        "#Addition\n",
        "print(x+y)\n",
        "print(np.add(x,y))\n",
        "\n",
        "#Addition\n",
        "print(x+y)\n",
        "print(np.add(x,y))\n",
        "\n",
        "#Subtraction\n",
        "print(x-y)\n",
        "print(np.subtract(x,y))\n",
        "\n",
        "#Multiplication\n",
        "print(x*y)\n",
        "print(np.multiply(x,y))\n",
        "\n",
        "#Division\n",
        "print(x/y)\n",
        "print(np.divide(x,y))\n",
        "\n",
        "#Sum\n",
        "print(np.sum(x)) #-->Sum of all elements\n",
        "print(np.sum(x,axis=0)) #-->Sum of elements in each column\n",
        "print(np.sum(x,axis=1)) #-->Sum of elements in each row"
      ],
      "metadata": {
        "colab": {
          "base_uri": "https://localhost:8080/"
        },
        "id": "eBpmVlRiAMF1",
        "outputId": "4bdfc57a-bb4f-4ae1-e4ce-6cbae32cdca1"
      },
      "execution_count": null,
      "outputs": [
        {
          "output_type": "stream",
          "name": "stdout",
          "text": [
            "[[ 8 10 12]\n",
            " [14 16 18]]\n",
            "[[ 8 10 12]\n",
            " [14 16 18]]\n",
            "[[ 8 10 12]\n",
            " [14 16 18]]\n",
            "[[ 8 10 12]\n",
            " [14 16 18]]\n",
            "[[-6 -6 -6]\n",
            " [-6 -6 -6]]\n",
            "[[-6 -6 -6]\n",
            " [-6 -6 -6]]\n",
            "[[ 7 16 27]\n",
            " [40 55 72]]\n",
            "[[ 7 16 27]\n",
            " [40 55 72]]\n",
            "[[0.14285714 0.25       0.33333333]\n",
            " [0.4        0.45454545 0.5       ]]\n",
            "[[0.14285714 0.25       0.33333333]\n",
            " [0.4        0.45454545 0.5       ]]\n",
            "21\n",
            "[5 7 9]\n",
            "[ 6 15]\n"
          ]
        }
      ]
    },
    {
      "cell_type": "markdown",
      "source": [
        "Dot Product and Transpose of a matrix"
      ],
      "metadata": {
        "id": "79TMbda4AyFg"
      }
    },
    {
      "cell_type": "code",
      "source": [
        "import numpy as np\n",
        "i=np.array([[2,5],[3,4]])\n",
        "j=np.array([[6,1],[3,2]])\n",
        "# Dot product\n",
        "print(i @ j)\n",
        "print(i.dot(j))\n",
        "print(np.dot(i,j))"
      ],
      "metadata": {
        "colab": {
          "base_uri": "https://localhost:8080/"
        },
        "id": "cFn8FXQ-A3rf",
        "outputId": "0f1ca84d-828f-45d0-dedf-3f1c86a20281"
      },
      "execution_count": null,
      "outputs": [
        {
          "output_type": "stream",
          "name": "stdout",
          "text": [
            "[[27 12]\n",
            " [30 11]]\n",
            "[[27 12]\n",
            " [30 11]]\n",
            "[[27 12]\n",
            " [30 11]]\n"
          ]
        }
      ]
    },
    {
      "cell_type": "code",
      "source": [
        "# Transposing\n",
        "print(j.T)\n",
        "p=np.transpose(j)\n",
        "print(p)\n",
        "\n",
        "\n",
        "#MAtrix Multiplication -->Similar to dot product\n",
        "z=np.matmul(i,j)\n",
        "print(z)\n",
        "\n",
        "#Outer product-->Multipling each vector u1 with all vectors of v i,e v1,v2,v3 individually\n",
        "l=np.outer(i,j)\n",
        "print(l)\n",
        "\n",
        "#Matrix Determinant\n",
        "det=np.linalg.det(i)\n",
        "print(det)\n",
        "\n",
        "#Matrix Inversion\n",
        "inv=np.linalg.inv(i)\n",
        "print(inv)\n",
        "\n",
        "\n",
        "#Matrix power for square matrices\n",
        "a_1=np.linalg.matrix_power(i,2)\n",
        "print(a_1)\n",
        "\n",
        "#MAtrix rank\n",
        "a_2=np.linalg.matrix_rank(i)\n",
        "print(a_2)"
      ],
      "metadata": {
        "colab": {
          "base_uri": "https://localhost:8080/"
        },
        "id": "qb9S7n6LEHsX",
        "outputId": "f48fd824-2eca-4f0a-f94a-aef2aeff914b"
      },
      "execution_count": null,
      "outputs": [
        {
          "output_type": "stream",
          "name": "stdout",
          "text": [
            "[[6 3]\n",
            " [1 2]]\n",
            "[[6 3]\n",
            " [1 2]]\n",
            "[[27 12]\n",
            " [30 11]]\n",
            "[[12  2  6  4]\n",
            " [30  5 15 10]\n",
            " [18  3  9  6]\n",
            " [24  4 12  8]]\n",
            "-7.000000000000001\n",
            "[[ 1.00000000e+00 -1.11022302e-16]\n",
            " [ 0.00000000e+00  1.00000000e+00]]\n",
            "[[19 30]\n",
            " [18 31]]\n",
            "2\n"
          ]
        }
      ]
    },
    {
      "cell_type": "code",
      "source": [
        "# Eigen values and vecors\n",
        "m,n=np.linalg.eig(j)\n",
        "print(\"The eigen value is {}\".format(m))\n",
        "print(\"The eigen vectors are {}\".format(n))\n",
        "#ONly to generaate the Eigen Values\n",
        "eig_val=np.linalg.eigvals(j)\n",
        "print(eig_val)\n",
        "\n",
        "#Trace of a Matrix\n",
        "s=np.trace(j)\n",
        "print(s)\n",
        "\n",
        "#like the concept of length for vectors, the norm provides a quantitative measure of how \"large\" the matrix is within a given context.\n",
        "d=np.linalg.norm(j)\n",
        "print(\"The Frobenius Norm of above matrix is {}\".format(d))"
      ],
      "metadata": {
        "colab": {
          "base_uri": "https://localhost:8080/"
        },
        "id": "DBambH_mIruZ",
        "outputId": "0b3ec49f-8314-46af-bb17-e19180145dc6"
      },
      "execution_count": null,
      "outputs": [
        {
          "output_type": "stream",
          "name": "stdout",
          "text": [
            "The eigen value is [6.64575131 1.35424869]\n",
            "The eigen vectors are [[ 0.84007078 -0.21043072]\n",
            " [ 0.54247681  0.97760877]]\n",
            "[6.64575131 1.35424869]\n",
            "8\n",
            "The Frobenius Norm of above matrix is 7.0710678118654755\n"
          ]
        }
      ]
    },
    {
      "cell_type": "markdown",
      "source": [
        "Solving system of Equations"
      ],
      "metadata": {
        "id": "lcUu0q2pLd1m"
      }
    },
    {
      "cell_type": "code",
      "source": [
        "y=np.array([[2,-1,1],[1,1,0],[3,-1,2]]) #Coefficent Matrix\n",
        "r=np.array([3,-1,7])#Constant Matrix\n",
        "res=np.linalg.solve(y,r)#Contains Unknowns\n",
        "print(res)"
      ],
      "metadata": {
        "colab": {
          "base_uri": "https://localhost:8080/"
        },
        "id": "5_Cw6Ag8LiWK",
        "outputId": "f49d28cb-c7f0-4826-8ecf-905a4a6a6d06"
      },
      "execution_count": null,
      "outputs": [
        {
          "output_type": "stream",
          "name": "stdout",
          "text": [
            "[-1.00000000e+00 -6.66133815e-16  5.00000000e+00]\n"
          ]
        }
      ]
    },
    {
      "cell_type": "markdown",
      "source": [
        "Broadcasting"
      ],
      "metadata": {
        "id": "4SlrkHG2hXfh"
      }
    },
    {
      "cell_type": "code",
      "source": [
        "# Scalar Broadcasting\n",
        "import numpy as np\n",
        "f=np.array([12,13,14])\n",
        "scalar=10\n",
        "res=f+scalar # Imagine how scalar got associated with each element and resulted in a completely new array\n",
        "print(res)\n",
        "\n",
        "# Dimension Broadcasting\n",
        "g=np.array([[12,13,1],[10,20,30]])\n",
        "h=np.array([14,32,21])\n",
        "rex=g+h # Imagine how vector got associated with each element in g and resulted in a completely new array\n",
        "print(rex)"
      ],
      "metadata": {
        "colab": {
          "base_uri": "https://localhost:8080/"
        },
        "id": "f_Q2OwhshZ4K",
        "outputId": "e6cf8282-f117-40fa-93b2-e0028a8f582a"
      },
      "execution_count": null,
      "outputs": [
        {
          "output_type": "stream",
          "name": "stdout",
          "text": [
            "[22 23 24]\n",
            "[[26 45 22]\n",
            " [24 52 51]]\n"
          ]
        }
      ]
    },
    {
      "cell_type": "markdown",
      "source": [
        "Single Value Decomposition"
      ],
      "metadata": {
        "id": "RZ_3FanaNJWK"
      }
    },
    {
      "cell_type": "code",
      "source": [],
      "metadata": {
        "id": "tXgw9hy6NM3w"
      },
      "execution_count": null,
      "outputs": []
    }
  ]
}